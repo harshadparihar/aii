{
 "cells": [
  {
   "cell_type": "code",
   "execution_count": 4,
   "id": "a724eef6-7bfa-4548-8b34-f6a5dc1d657a",
   "metadata": {},
   "outputs": [
    {
     "name": "stdin",
     "output_type": "stream",
     "text": [
      "Enter the number of vertices:  4\n"
     ]
    },
    {
     "name": "stdout",
     "output_type": "stream",
     "text": [
      "Enter the adjacency matrix:\n"
     ]
    },
    {
     "name": "stdin",
     "output_type": "stream",
     "text": [
      " 0111\n",
      " 1010\n",
      " 1101\n",
      " 1010\n"
     ]
    },
    {
     "name": "stdout",
     "output_type": "stream",
     "text": [
      "Solution found with 3 colors:\n",
      "Vertex 0 ---> Color 1\n",
      "Vertex 1 ---> Color 2\n",
      "Vertex 2 ---> Color 3\n",
      "Vertex 3 ---> Color 2\n"
     ]
    }
   ],
   "source": [
    "class GraphColoring:\n",
    "    def __init__(self, vertices, graph):\n",
    "        self.vertices = vertices\n",
    "        self.graph = graph\n",
    "        # Initialize colors for each vertex, initially set to -1\n",
    "        self.colors = [-1] * self.vertices\n",
    "        self.minColors = float('inf')\n",
    "\n",
    "\n",
    "    def solve(self):\n",
    "        self.try_coloring(0, 1)\n",
    "\n",
    "    def try_coloring(self, vertex, num_colors):\n",
    "        if num_colors >= self.minColors:\n",
    "            return\n",
    "\n",
    "        if vertex == self.vertices:\n",
    "            self.minColors = num_colors\n",
    "            self.print_solution(num_colors)\n",
    "            return\n",
    "\n",
    "        for color in range(1, num_colors + 1):\n",
    "            if self.is_safe(vertex, color):\n",
    "                self.colors[vertex] = color\n",
    "                self.try_coloring(vertex + 1, num_colors)\n",
    "                self.colors[vertex] = -1\n",
    "\n",
    "        self.colors[vertex] = num_colors + 1\n",
    "        self.try_coloring(vertex + 1, num_colors + 1)\n",
    "        self.colors[vertex] = -1\n",
    "\n",
    "    def is_safe(self, vertex, color):\n",
    "        for i in range(self.vertices):\n",
    "            if self.graph[vertex][i] == 1 and self.colors[i] == color:\n",
    "                return False\n",
    "        return True\n",
    "\n",
    "    def print_solution(self, num_colors):\n",
    "        print(\"Solution found with\", num_colors, \"colors:\")\n",
    "        for i in range(self.vertices):\n",
    "            print(\"Vertex\", i, \"---> Color\", self.colors[i])\n",
    "\n",
    "if __name__ == \"__main__\":\n",
    "    vertices = int(input(\"Enter the number of vertices: \"))\n",
    "    graph = []\n",
    "\n",
    "    print(\"Enter the adjacency matrix:\")\n",
    "    for i in range(vertices):\n",
    "        row = list(map(int, input().strip()))\n",
    "        graph.append(row)\n",
    "\n",
    "    coloring = GraphColoring(vertices, graph)\n",
    "    coloring.solve()\n",
    "\n",
    "\n",
    "\n",
    "#Enter the number of vertices: 4\n",
    "#Enter the adjacency matrix:\n",
    "#0111\n",
    "#1010\n",
    "#1101\n",
    "#1010\n"
   ]
  },
  {
   "cell_type": "code",
   "execution_count": null,
   "id": "abe490c8-2788-43a9-aaab-ffe1376e1f27",
   "metadata": {},
   "outputs": [],
   "source": []
  }
 ],
 "metadata": {
  "kernelspec": {
   "display_name": "Python 3 (ipykernel)",
   "language": "python",
   "name": "python3"
  },
  "language_info": {
   "codemirror_mode": {
    "name": "ipython",
    "version": 3
   },
   "file_extension": ".py",
   "mimetype": "text/x-python",
   "name": "python",
   "nbconvert_exporter": "python",
   "pygments_lexer": "ipython3",
   "version": "3.11.7"
  }
 },
 "nbformat": 4,
 "nbformat_minor": 5
}
