{
 "cells": [
  {
   "cell_type": "code",
   "execution_count": 1,
   "id": "f0168615-a484-4ec9-adcc-ed2fa7cf405e",
   "metadata": {},
   "outputs": [
    {
     "name": "stdin",
     "output_type": "stream",
     "text": [
      "Enter the number of vertices:  3\n"
     ]
    },
    {
     "name": "stdout",
     "output_type": "stream",
     "text": [
      "Enter the adjacency matrix row by row:\n"
     ]
    },
    {
     "name": "stdin",
     "output_type": "stream",
     "text": [
      " 1 2 3\n",
      " 4 5 6\n",
      " 7 8 9\n"
     ]
    },
    {
     "name": "stdout",
     "output_type": "stream",
     "text": [
      "Minimum Spanning Tree (MST) edges (weight, u, v):\n",
      "(2, 0, 1)\n",
      "(6, 1, 2)\n"
     ]
    }
   ],
   "source": [
    "class Edge:\n",
    "    def __init__(self, weight, u, v):\n",
    "        self.weight = weight\n",
    "        self.u = u\n",
    "        self.v = v\n",
    "\n",
    "def prim_mst(graph):\n",
    "    num_vertices = len(graph)\n",
    "    selected_vertices = [False] * num_vertices\n",
    "    mst_edges = []\n",
    "    edges_count = 0\n",
    "    current_vertex = 0\n",
    "\n",
    "    while edges_count < num_vertices - 1:\n",
    "        selected_vertices[current_vertex] = True\n",
    "        min_edge = Edge(float('inf'), -1, -1)\n",
    "        \n",
    "        for to_vertex in range(num_vertices):\n",
    "            if graph[current_vertex][to_vertex] > 0 and not selected_vertices[to_vertex]:\n",
    "                if graph[current_vertex][to_vertex] < min_edge.weight:\n",
    "                    min_edge = Edge(graph[current_vertex][to_vertex], current_vertex, to_vertex)\n",
    "        \n",
    "        if min_edge.v != -1:\n",
    "            mst_edges.append(min_edge)\n",
    "            current_vertex = min_edge.v\n",
    "            edges_count += 1\n",
    "\n",
    "    return mst_edges\n",
    "\n",
    "def take_graph_input():\n",
    "    num_vertices = int(input(\"Enter the number of vertices: \"))\n",
    "    print(\"Enter the adjacency matrix row by row:\")\n",
    "    graph = []\n",
    "    for _ in range(num_vertices):\n",
    "        row = list(map(int, input().split()))\n",
    "        graph.append(row)\n",
    "    return graph\n",
    "\n",
    "def main():\n",
    "    graph = take_graph_input()\n",
    "    mst_edges = prim_mst(graph)\n",
    "    print(\"Minimum Spanning Tree (MST) edges (weight, u, v):\")\n",
    "    for edge in mst_edges:\n",
    "        print(f\"({edge.weight}, {edge.u}, {edge.v})\")\n",
    "\n",
    "if __name__ == \"__main__\":\n",
    "    main()\n",
    "    \n",
    "    \n",
    "    #Enter the number of vertices: 3\n",
    "#Enter the adjacency matrix row by row:\n",
    "#1 2 3 \n",
    "#4 5 6 \n",
    "#7 8 9\n",
    "#Minimum Spanning Tree (MST) edges (weight, u, v):\n",
    "#(2, 0, 1)\n",
    "#(6, 1, 2)\n",
    "\n",
    "#=== Code Execution Successful ==="
   ]
  },
  {
   "cell_type": "code",
   "execution_count": null,
   "id": "2fd6984a-2c39-4829-9edc-e66ff774456b",
   "metadata": {},
   "outputs": [],
   "source": []
  }
 ],
 "metadata": {
  "kernelspec": {
   "display_name": "Python 3 (ipykernel)",
   "language": "python",
   "name": "python3"
  },
  "language_info": {
   "codemirror_mode": {
    "name": "ipython",
    "version": 3
   },
   "file_extension": ".py",
   "mimetype": "text/x-python",
   "name": "python",
   "nbconvert_exporter": "python",
   "pygments_lexer": "ipython3",
   "version": "3.11.7"
  }
 },
 "nbformat": 4,
 "nbformat_minor": 5
}
