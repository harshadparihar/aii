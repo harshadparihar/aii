{
 "cells": [
  {
   "cell_type": "code",
   "execution_count": 1,
   "id": "323ae501-1c59-4b22-be7a-eac5b1d0b2d2",
   "metadata": {},
   "outputs": [
    {
     "name": "stdout",
     "output_type": "stream",
     "text": [
      "Hello Customer, I am Ann\n",
      "You may ask your queries to me about our product\n",
      "And I shall answer your questions :)\n",
      "\n"
     ]
    },
    {
     "name": "stdin",
     "output_type": "stream",
     "text": [
      "Enter your registered mobile number to verify and access me: 80872187626\n"
     ]
    },
    {
     "name": "stdout",
     "output_type": "stream",
     "text": [
      "\n",
      "WELCOME!!\n",
      "Please tell me how shall I assist you\n",
      "1.Complaint about product\n",
      "2.Feedback on a product\n",
      "3.Connect to a customer executive\n"
     ]
    },
    {
     "name": "stdin",
     "output_type": "stream",
     "text": [
      " 2\n"
     ]
    },
    {
     "name": "stdout",
     "output_type": "stream",
     "text": [
      "1.Shoes\n",
      "2.Shirts\n",
      "3.Pants\n",
      "4.Shades\n"
     ]
    },
    {
     "name": "stdin",
     "output_type": "stream",
     "text": [
      "Please choose which category of product are you referring: 3\n",
      "Please enter the model number (if possible): 1234\n"
     ]
    },
    {
     "name": "stdout",
     "output_type": "stream",
     "text": [
      "How much will you rate for the 1234 Pants ?(1-5)\n"
     ]
    },
    {
     "name": "stdin",
     "output_type": "stream",
     "text": [
      " 1.5\n"
     ]
    },
    {
     "ename": "ValueError",
     "evalue": "invalid literal for int() with base 10: '1.5'",
     "output_type": "error",
     "traceback": [
      "\u001b[1;31m---------------------------------------------------------------------------\u001b[0m",
      "\u001b[1;31mValueError\u001b[0m                                Traceback (most recent call last)",
      "Cell \u001b[1;32mIn[1], line 55\u001b[0m\n\u001b[0;32m     53\u001b[0m \tmod\u001b[38;5;241m=\u001b[39m\u001b[38;5;28minput\u001b[39m(\u001b[38;5;124m\"\u001b[39m\u001b[38;5;124mPlease enter the model number (if possible):\u001b[39m\u001b[38;5;124m\"\u001b[39m)\n\u001b[0;32m     54\u001b[0m \t\u001b[38;5;28mprint\u001b[39m(\u001b[38;5;124m\"\u001b[39m\u001b[38;5;124mHow much will you rate for the\u001b[39m\u001b[38;5;124m\"\u001b[39m,mod,pro,\u001b[38;5;124m\"\u001b[39m\u001b[38;5;124m?(1-5)\u001b[39m\u001b[38;5;124m\"\u001b[39m)\n\u001b[1;32m---> 55\u001b[0m \trev\u001b[38;5;241m=\u001b[39m\u001b[38;5;28mint\u001b[39m(\u001b[38;5;28minput\u001b[39m())\n\u001b[0;32m     56\u001b[0m \u001b[38;5;28;01melif\u001b[39;00m(pro\u001b[38;5;241m==\u001b[39m\u001b[38;5;124m\"\u001b[39m\u001b[38;5;124m4\u001b[39m\u001b[38;5;124m\"\u001b[39m):\n\u001b[0;32m     57\u001b[0m \tpro\u001b[38;5;241m=\u001b[39m\u001b[38;5;124m\"\u001b[39m\u001b[38;5;124mShades\u001b[39m\u001b[38;5;124m\"\u001b[39m\n",
      "\u001b[1;31mValueError\u001b[0m: invalid literal for int() with base 10: '1.5'"
     ]
    }
   ],
   "source": [
    "print(\"Hello Customer, I am Ann\")\n",
    "print(\"You may ask your queries to me about our product\")\n",
    "print(\"And I shall answer your questions :)\\n\")\n",
    "\n",
    "input(\"Enter your registered mobile number to verify and access me:\")\n",
    "while(True):\n",
    "\tprint(\"\\nWELCOME!!\\nPlease tell me how shall I assist you\\n1.Complaint about product\\n2.Feedback on a product\\n3.Connect to a customer executive\")\n",
    "\n",
    "\tquery=int(input())\n",
    "\tif(query==1):\n",
    "\t\n",
    "\t\tprint(\"1.Shoes\\n2.Shirts\\n3.Pants\\n4.Shades\")\n",
    "\t\tpro = input(\"Please choose which category of product are you referring:\")\n",
    "\t\tif(pro==\"1\"):\n",
    "\t\t\tpro=\"Shoes\"\n",
    "\t\t\tmod=input(\"Please enter the model number (if possible):\")\n",
    "\t\t\tprint(\"Tell us your Complaint about\",mod,pro)\n",
    "\t\t\tcomp=input()\n",
    "\t\telif(pro==\"2\"):\n",
    "\t\t\tpro=\"Shirt\"\n",
    "\t\t\tmod=input(\"Please enter the model number (if possible):\")\n",
    "\t\t\tprint(\"Tell us your Complaint about\",mod,pro)\n",
    "\t\t\tcomp=input()\n",
    "\t\telif(pro==\"3\"):\n",
    "\t\t\tpro=\"Pants\"\n",
    "\t\t\tmod=input(\"Please enter the model number (if possible):\")\n",
    "\t\t\tprint(\"Tell us your Complaint about\",mod,pro)\n",
    "\t\t\tcomp=input()\n",
    "\t\telif(pro==\"4\"):\n",
    "\t\t\tpro=\"Shades\"\n",
    "\t\t\tmod=input(\"Please enter the model number (if possible):\")\n",
    "\t\t\tprint(\"Tell us your Complaint about\",mod,pro)\n",
    "\t\t\tcomp=input()\n",
    "\t\tprint(\"Thank You, We have successfully received your complaint about\", mod, pro)\n",
    "\t\tprint(\"We will take action on your complaint ASAP\")\n",
    "\n",
    "\tif(query==2):\n",
    "\t\n",
    "\t\tprint(\"1.Shoes\\n2.Shirts\\n3.Pants\\n4.Shades\")\n",
    "\t\tpro = input(\"Please choose which category of product are you referring:\")\n",
    "\t\tif(pro==\"1\"):\n",
    "\t\t\tpro=\"Shoes\"\n",
    "\t\t\tmod=input(\"Please enter the model number (if possible):\")\n",
    "\t\t\tprint(\"How much will you rate for the\",mod,pro,\"?(1-5)\")\n",
    "\t\t\trev=int(input())\n",
    "\t\telif(pro==\"2\"):\n",
    "\t\t\tpro=\"Shirt\"\n",
    "\t\t\tmod=input(\"Please enter the model number (if possible):\")\n",
    "\t\t\tprint(\"How much will you rate for the\",mod,pro,\"?(1-5)\")\n",
    "\t\t\trev=int(input())\n",
    "\t\telif(pro==\"3\"):\n",
    "\t\t\tpro=\"Pants\"\n",
    "\t\t\tmod=input(\"Please enter the model number (if possible):\")\n",
    "\t\t\tprint(\"How much will you rate for the\",mod,pro,\"?(1-5)\")\n",
    "\t\t\trev=int(input())\n",
    "\t\telif(pro==\"4\"):\n",
    "\t\t\tpro=\"Shades\"\n",
    "\t\t\tmod=input(\"Please enter the model number (if possible):\")\n",
    "\t\t\tprint(\"How much will you rate for the\",mod,pro,\"?(1-5)\")\n",
    "\t\t\trev=int(input())\n",
    "\t\t\n",
    "\t\tif(rev>0 and rev<3):\n",
    "\t\t\tch=input(\"Well, That's some poor rating, would you like to tell us what we should improve? (Y/N)\")\n",
    "\t\t\tif(ch=='Y' or ch=='y'):\n",
    "\t\t\t\tprint(\"Thanks, that's a much appriciated response plese register your complaint on Complaint section.\")\n",
    "\t\t\telse:\n",
    "\t\t\t\tprint(\"Nevermind.\")\n",
    "\t\telif(rev==3):\n",
    "\t\t\tch=input(\"That's not bad, but We have much room for improvement\\nPlease head towards complaint section to assist us in doing so? (Y/N)\")\n",
    "\t\telif(rev>3 and rev<=5):\n",
    "\t\t\tprint(\"We are glad you like our product, Thanks for your support.\")\n",
    "\tif(query==3):\n",
    "\t\tprint(\"Connectng to a available executive\")\n",
    "\t\t"
   ]
  },
  {
   "cell_type": "code",
   "execution_count": null,
   "id": "bf9aaac6-000b-43ff-9095-d99dd09eb229",
   "metadata": {},
   "outputs": [],
   "source": []
  }
 ],
 "metadata": {
  "kernelspec": {
   "display_name": "Python 3 (ipykernel)",
   "language": "python",
   "name": "python3"
  },
  "language_info": {
   "codemirror_mode": {
    "name": "ipython",
    "version": 3
   },
   "file_extension": ".py",
   "mimetype": "text/x-python",
   "name": "python",
   "nbconvert_exporter": "python",
   "pygments_lexer": "ipython3",
   "version": "3.11.7"
  }
 },
 "nbformat": 4,
 "nbformat_minor": 5
}
