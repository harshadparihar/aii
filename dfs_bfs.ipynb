{
 "cells": [
  {
   "cell_type": "code",
   "execution_count": 1,
   "id": "c0ac32e3-b6b1-4ab1-b40c-3b08a7312468",
   "metadata": {},
   "outputs": [
    {
     "name": "stdin",
     "output_type": "stream",
     "text": [
      "Enter the number of nodes:  5\n",
      "\n",
      "Enter the name of the node:  A\n",
      "Enter the number of neighbors:  3\n",
      "Enter the neighbor:  B\n",
      "Enter the neighbor:  C\n",
      "Enter the neighbor:  D\n",
      "\n",
      "Enter the name of the node:  B\n",
      "Enter the number of neighbors:  1\n",
      "Enter the neighbor:  E\n",
      "\n",
      "Enter the name of the node:  C\n",
      "Enter the number of neighbors:  2\n",
      "Enter the neighbor:  D\n",
      "Enter the neighbor:  E\n",
      "\n",
      "Enter the name of the node:  D\n",
      "Enter the number of neighbors:  0\n",
      "\n",
      "Enter the name of the node:  E\n",
      "Enter the number of neighbors:  0\n"
     ]
    },
    {
     "name": "stdout",
     "output_type": "stream",
     "text": [
      "{'A': ['B', 'C', 'D'], 'B': ['E'], 'C': ['D', 'E'], 'D': [], 'E': []}\n"
     ]
    },
    {
     "name": "stdin",
     "output_type": "stream",
     "text": [
      "Enter the starting node:  A\n",
      "Enter the goal node:  E\n"
     ]
    },
    {
     "name": "stdout",
     "output_type": "stream",
     "text": [
      "\n",
      "DFS:\n",
      "\n",
      "A\n",
      "B\n",
      "E\n",
      "\n",
      "Goal node has been found.\n",
      "\n",
      "BFS:\n",
      "\n",
      "A\n",
      "B\n",
      "C\n",
      "D\n",
      "E\n",
      "\n",
      "Goal node has been found.\n"
     ]
    }
   ],
   "source": [
    "def dfs(graph,start,goal,visited):\n",
    "    if start not in visited:\n",
    "        visited.add(start)\n",
    "        print(start)\n",
    "        if start == goal:\n",
    "            print('\\nGoal node has been found.')\n",
    "            return True\n",
    "        for i in graph[start]:\n",
    "            if i not in visited:\n",
    "                dfs(graph,i,goal,visited)\n",
    "                return True\n",
    "    return False\n",
    "\n",
    "def bfs(graph,start,goal,visited1):\n",
    "    if start not in visited1:\n",
    "        queue=[]\n",
    "        queue.append(start)\n",
    "        visited1.add(start)\n",
    "        while queue:\n",
    "            v = queue.pop(0)\n",
    "            print(v)\n",
    "            if v == goal:\n",
    "                print('\\nGoal node has been found.')\n",
    "                return True\n",
    "            for i in graph[v]:\n",
    "                if i not in visited1:\n",
    "                    queue.append(i)\n",
    "                    visited1.add(i)\n",
    "\n",
    "num = int(input('Enter the number of nodes: '))\n",
    "graph={}\n",
    "for i in range(num):\n",
    "    node = input('\\nEnter the name of the node: ')\n",
    "    lst=[]\n",
    "    n = int(input('Enter the number of neighbors: '))\n",
    "    for j in range(n):\n",
    "        nei = input('Enter the neighbor: ')\n",
    "        lst.append(nei)\n",
    "    graph[node]=lst\n",
    "\n",
    "print(graph)\n",
    "\n",
    "visited=set()\n",
    "visited1=set()\n",
    "\n",
    "start = input('Enter the starting node: ')\n",
    "goal = input('Enter the goal node: ')\n",
    "\n",
    "if start in graph:\n",
    "    print('\\nDFS:\\n')\n",
    "    if not dfs(graph,start,goal,visited):\n",
    "        print('\\nGoal node was not found.')\n",
    "\n",
    "    print('\\nBFS:\\n')\n",
    "    if not bfs(graph,start,goal,visited1):\n",
    "        print('\\nGoal node was not found')"
   ]
  },
  {
   "cell_type": "code",
   "execution_count": null,
   "id": "9d27e70b-e036-4b6c-bc6e-573f2bd7f2d5",
   "metadata": {},
   "outputs": [],
   "source": []
  }
 ],
 "metadata": {
  "kernelspec": {
   "display_name": "Python 3 (ipykernel)",
   "language": "python",
   "name": "python3"
  },
  "language_info": {
   "codemirror_mode": {
    "name": "ipython",
    "version": 3
   },
   "file_extension": ".py",
   "mimetype": "text/x-python",
   "name": "python",
   "nbconvert_exporter": "python",
   "pygments_lexer": "ipython3",
   "version": "3.11.7"
  }
 },
 "nbformat": 4,
 "nbformat_minor": 5
}
