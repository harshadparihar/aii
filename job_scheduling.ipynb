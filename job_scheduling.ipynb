{
 "cells": [
  {
   "cell_type": "code",
   "execution_count": 6,
   "id": "06a84125-4409-478a-b1ef-3245f6138f88",
   "metadata": {},
   "outputs": [
    {
     "name": "stdin",
     "output_type": "stream",
     "text": [
      "Enter the number of jobs:  4\n",
      "Enter the deadline for job 1:  1\n",
      "Enter the profit for job 1:  100\n",
      "Enter the deadline for job 2:  2\n",
      "Enter the profit for job 2:  50\n",
      "Enter the deadline for job 3:  1\n",
      "Enter the profit for job 3:  25\n",
      "Enter the deadline for job 4:  2\n",
      "Enter the profit for job 4:  65\n"
     ]
    },
    {
     "name": "stdout",
     "output_type": "stream",
     "text": [
      "Max profit : 165\n",
      "\n",
      "Schedule:\n",
      "\n",
      "Job: 1  (Deadline: 1,Profit: 100)\n",
      "Job: 4  (Deadline: 2,Profit: 65)\n"
     ]
    }
   ],
   "source": [
    "def job_scheduling(jobs):\n",
    "    jobs.sort(key = lambda x:x[2],reverse = True)\n",
    "    max_deadline = max(jobs,key = lambda x:x[1])[1]\n",
    "    schedule= [-1] *(max_deadline+1)\n",
    "    scheduled_jobs=[]\n",
    "    total_profit=0\n",
    "    for job in jobs:\n",
    "        job_id,deadline,profit=job\n",
    "        for i in range(deadline,0,-1):\n",
    "            if(schedule[i]==-1):\n",
    "                schedule[i]=job_id\n",
    "                total_profit+=profit\n",
    "                scheduled_jobs.append(job)\n",
    "                break\n",
    "\n",
    "    return total_profit,scheduled_jobs\n",
    "\n",
    "num = int(input('Enter the number of jobs: '))\n",
    "jobs=[]\n",
    "for i in range(num):\n",
    "    job_id=i+1\n",
    "    deadline=int(input(f'Enter the deadline for job {job_id}: '))\n",
    "    profit=int(input(f'Enter the profit for job {job_id}: '))\n",
    "    jobs.append((job_id,deadline,profit))\n",
    "\n",
    "max_profit,schedule = job_scheduling(jobs)\n",
    "\n",
    "print('Max profit :',max_profit)\n",
    "print(\"\\nSchedule:\\n\")\n",
    "for i in schedule:\n",
    "    print(f\"Job: {i[0]}  (Deadline: {i[1]},Profit: {i[2]})\")"
   ]
  },
  {
   "cell_type": "code",
   "execution_count": null,
   "id": "96fb57e1-17ba-4421-87dd-0b953ad10821",
   "metadata": {},
   "outputs": [],
   "source": []
  }
 ],
 "metadata": {
  "kernelspec": {
   "display_name": "Python 3 (ipykernel)",
   "language": "python",
   "name": "python3"
  },
  "language_info": {
   "codemirror_mode": {
    "name": "ipython",
    "version": 3
   },
   "file_extension": ".py",
   "mimetype": "text/x-python",
   "name": "python",
   "nbconvert_exporter": "python",
   "pygments_lexer": "ipython3",
   "version": "3.11.7"
  }
 },
 "nbformat": 4,
 "nbformat_minor": 5
}
