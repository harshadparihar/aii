{
 "cells": [
  {
   "cell_type": "code",
   "execution_count": null,
   "id": "bd87a48e-e1a0-4d21-bbad-fa1921bf4997",
   "metadata": {},
   "outputs": [
    {
     "name": "stdin",
     "output_type": "stream",
     "text": [
      "Enter the number of vertices:  5\n",
      "Enter the number of edges:  7\n"
     ]
    },
    {
     "name": "stdout",
     "output_type": "stream",
     "text": [
      "Enter edges in the format 'source destination weight':\n"
     ]
    },
    {
     "name": "stdin",
     "output_type": "stream",
     "text": [
      " 0 1 4 \n",
      " 0 2 2 \n",
      " 1 2 5 \n",
      " 1 3 10\n",
      " 2 3 3\n",
      " 2 4 2\n"
     ]
    }
   ],
   "source": [
    "import heapq\n",
    "\n",
    "class Graph:\n",
    "    def __init__(self, vertices):\n",
    "        self.vertices = vertices\n",
    "        self.adjacency_list = {vertex: {} for vertex in vertices}\n",
    "\n",
    "    def add_edge(self, u, v, weight):\n",
    "        self.adjacency_list[u][v] = weight\n",
    "        self.adjacency_list[v][u] = weight\n",
    "\n",
    "def dijkstra(graph, start):\n",
    "    distances = {vertex: float('inf') for vertex in graph.vertices}\n",
    "    distances[start] = 0\n",
    "    visited = set()\n",
    "    min_heap = [(0, start)]\n",
    "\n",
    "    while min_heap:\n",
    "        current_distance, current_vertex = heapq.heappop(min_heap)\n",
    "\n",
    "        if current_vertex in visited:\n",
    "            continue\n",
    "        visited.add(current_vertex)\n",
    "\n",
    "        for neighbor, weight in graph.adjacency_list[current_vertex].items():\n",
    "            distance = current_distance + weight\n",
    "            if distance < distances[neighbor]:\n",
    "                distances[neighbor] = distance\n",
    "                heapq.heappush(min_heap, (distance, neighbor))\n",
    "\n",
    "    return distances\n",
    "\n",
    "def main():\n",
    "    num_vertices = int(input(\"Enter the number of vertices: \"))\n",
    "    vertices = [str(i) for i in range(num_vertices)]\n",
    "\n",
    "    graph = Graph(vertices)\n",
    "\n",
    "    num_edges = int(input(\"Enter the number of edges: \"))\n",
    "    print(\"Enter edges in the format 'source destination weight':\")\n",
    "    for _ in range(num_edges):\n",
    "        source, destination, weight = input().split()\n",
    "        graph.add_edge(source, destination, int(weight))\n",
    "\n",
    "    start_vertex = input(\"Enter the starting vertex: \")\n",
    "\n",
    "    distances = dijkstra(graph, start_vertex)\n",
    "\n",
    "    print(\"Shortest distances from the starting vertex:\")\n",
    "    for vertex, distance in distances.items():\n",
    "        print(f\"Distance to {vertex}: {distance}\")\n",
    "\n",
    "if __name__ == \"__main__\":\n",
    "    main()\n",
    "\n",
    "\n",
    "\n",
    "\n",
    "#Enter the number of vertices: 5\n",
    "#Enter the number of edges: 7\n",
    "#Enter edges in the format 'source destination weight':\n",
    "#0 1 4\n",
    "#0 2 2\n",
    "#1 2 5\n",
    "#1 3 10\n",
    "#2 3 3\n",
    "#2 4 2\n",
    "#3 4 6\n",
    "#Enter the starting vertex: 0\n",
    "#Shortest distances from the starting vertex:\n",
    "#Distance to 0: 0\n",
    "#Distance to 1: 4\n",
    "#istance to 2: 2\n",
    "#Distance to 3: 5\n",
    "#Distance to 4: 4\n",
    "\n",
    "#=== Code Execution Successful ==="
   ]
  },
  {
   "cell_type": "code",
   "execution_count": null,
   "id": "0e72fac1-fadd-4cf2-9275-818f945723d2",
   "metadata": {},
   "outputs": [],
   "source": []
  }
 ],
 "metadata": {
  "kernelspec": {
   "display_name": "Python 3 (ipykernel)",
   "language": "python",
   "name": "python3"
  },
  "language_info": {
   "codemirror_mode": {
    "name": "ipython",
    "version": 3
   },
   "file_extension": ".py",
   "mimetype": "text/x-python",
   "name": "python",
   "nbconvert_exporter": "python",
   "pygments_lexer": "ipython3",
   "version": "3.11.7"
  }
 },
 "nbformat": 4,
 "nbformat_minor": 5
}
