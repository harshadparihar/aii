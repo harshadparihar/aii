{
 "cells": [
  {
   "cell_type": "code",
   "execution_count": 3,
   "id": "78bb29e5-1db0-4af8-baa7-e39ede2930c7",
   "metadata": {},
   "outputs": [
    {
     "name": "stdin",
     "output_type": "stream",
     "text": [
      "Enter the size of the array:  5\n",
      "Enter the element:  10\n",
      "Enter the element:  -100\n",
      "Enter the element:  15\n",
      "Enter the element:  20\n",
      "Enter the element:  0\n"
     ]
    },
    {
     "name": "stdout",
     "output_type": "stream",
     "text": [
      "[10, -100, 15, 20, 0]\n",
      "\n",
      " [-100, 0, 10, 15, 20]\n"
     ]
    }
   ],
   "source": [
    "class Sort:\n",
    "    def selection_sort(self,arr,n):\n",
    "        for i in range(n-1):\n",
    "            min = i\n",
    "            for j in range(i+1,n):\n",
    "                if arr[min]>arr[j]:\n",
    "                    arr[min],arr[j] = arr[j],arr[min]\n",
    "        \n",
    "num = int(input('Enter the size of the array: '))\n",
    "arr=[]\n",
    "for i in range(num):\n",
    "    val = int(input(\"Enter the element: \"))\n",
    "    arr.append(val)\n",
    "\n",
    "print(arr)\n",
    "s = Sort()\n",
    "s.selection_sort(arr,num)\n",
    "print(\"\\n\",arr)"
   ]
  },
  {
   "cell_type": "code",
   "execution_count": null,
   "id": "6cb2ade1-43a4-4a61-a7c8-b2d810f804d1",
   "metadata": {},
   "outputs": [],
   "source": []
  }
 ],
 "metadata": {
  "kernelspec": {
   "display_name": "Python 3 (ipykernel)",
   "language": "python",
   "name": "python3"
  },
  "language_info": {
   "codemirror_mode": {
    "name": "ipython",
    "version": 3
   },
   "file_extension": ".py",
   "mimetype": "text/x-python",
   "name": "python",
   "nbconvert_exporter": "python",
   "pygments_lexer": "ipython3",
   "version": "3.11.7"
  }
 },
 "nbformat": 4,
 "nbformat_minor": 5
}
